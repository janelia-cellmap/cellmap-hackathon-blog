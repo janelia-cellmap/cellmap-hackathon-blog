{
 "cells": [
  {
   "cell_type": "markdown",
   "id": "8d687027",
   "metadata": {},
   "source": [
    "# Embedded Python with JavaCPP\n",
    "\n",
    "> Installation instructions and small experiments with JavaCPP embedded Python\n",
    "\n",
    "- toc: false\n",
    "- branch: master\n",
    "- badges: true\n",
    "- comments: true\n",
    "- author: Stephan Saalfeld\n",
    "- categories: [javacpp, java, python]"
   ]
  },
  {
   "cell_type": "markdown",
   "id": "0748bb4d",
   "metadata": {},
   "source": [
    "We explored how to interact between Java and Python using [JavaCPP embeded Python](https://github.com/bytedeco/javacpp-embedded-python).  It turns out that updating a few versions here and there is necessary to work with the latest distribution.  Here are the instructions:"
   ]
  },
  {
   "cell_type": "markdown",
   "id": "0661a8dc",
   "metadata": {},
   "source": [
    "## Install JavaCPP embedded Python\n",
    "\n",
    "First clone the repository:\n",
    "```\n",
    "git clone https://github.com/bytedeco/javacpp-embedded-python.git\n",
    "```\n",
    "\n",
    "Then, in its `pom.xml` file, bump the numpy dependencies to:\n",
    "```xml\n",
    "<dependency>\n",
    "    <groupId>org.bytedeco</groupId>\n",
    "    <artifactId>numpy</artifactId>\n",
    "    <version>1.22.2-1.5.7</version>\n",
    "</dependency>\n",
    "\n",
    "<dependency>\n",
    "    <groupId>org.bytedeco</groupId>\n",
    "    <artifactId>numpy-platform</artifactId>\n",
    "    <version>1.22.2-1.5.7</version>\n",
    "    <scope>test</scope>\n",
    "</dependency>\n",
    "```\n",
    "\n",
    "Then build and locally install the project with maven.  I had to skip Javadoc generation because my Javadoc is misconfigured:\n",
    "```\n",
    "mvn -Dmaven.javadoc.skip=true clean install\n",
    "```\n",
    "\n",
    "Done."
   ]
  },
  {
   "cell_type": "markdown",
   "id": "9c21cdb0",
   "metadata": {},
   "source": [
    "## Experiments\n",
    "\n",
    "Now let's test this in a notebook with the [IJava JShell kernel](https://github.com/SpencerPark/IJava).  If you haven't done this yet, build and install the most recent kernel following the instructions on the [ImgLib2 blog](https://imglib.github.io/imglib2-blog/jupyter/ijava/jshell/java/kernel/2022/06/05/setup-ijava-jupyter-kernel.html).\n",
    "\n",
    "We can now link JavaCPP embedded Python as a dependency:"
   ]
  },
  {
   "cell_type": "code",
   "execution_count": 1,
   "id": "53ca32ca",
   "metadata": {},
   "outputs": [],
   "source": [
    "%maven org.bytedeco:javacpp:1.5.7\n",
    "%maven org.bytedeco:cpython-platform:3.10.2-1.5.7\n",
    "%maven org.bytedeco:numpy-platform:1.22.2-1.5.7\n",
    "%maven org.bytedeco:javacpp-embedded-python:1.0.0-SNAPSHOT"
   ]
  },
  {
   "cell_type": "markdown",
   "id": "f57a53ba",
   "metadata": {},
   "source": [
    "Let's test it:"
   ]
  },
  {
   "cell_type": "code",
   "execution_count": 2,
   "id": "a8d71b8a",
   "metadata": {},
   "outputs": [
    {
     "data": {
      "text/plain": [
       "3"
      ]
     },
     "execution_count": 2,
     "metadata": {},
     "output_type": "execute_result"
    }
   ],
   "source": [
    "import org.bytedeco.embeddedpython.*;\n",
    "\n",
    "Python.put(\"a\", 1);\n",
    "Python.exec(\"b = a + 2\");\n",
    "long b = Python.get(\"b\");\n",
    "b;"
   ]
  },
  {
   "cell_type": "markdown",
   "id": "0db7a72c",
   "metadata": {},
   "source": [
    "We can also install some packages and find out where they go:"
   ]
  },
  {
   "cell_type": "code",
   "execution_count": 3,
   "id": "4a4103c0",
   "metadata": {},
   "outputs": [
    {
     "data": {
      "text/plain": [
       "<module 'pandas' from '/home/saalfeld/.javacpp/cache/cpython-3.10.2-1.5.7-linux-x86_64.jar/org/bytedeco/cpython/linux-x86_64/lib/python3.10/site-packages/pandas/__init__.py'>"
      ]
     },
     "execution_count": 3,
     "metadata": {},
     "output_type": "execute_result"
    }
   ],
   "source": [
    "Pip.install(\"pandas\");\n",
    "Python.exec(\"import pandas\");\n",
    "Python.eval(\"str(pandas)\");"
   ]
  },
  {
   "cell_type": "markdown",
   "id": "8efbd78e",
   "metadata": {},
   "source": [
    "Here is a function that forwards to a Python function by name:"
   ]
  },
  {
   "cell_type": "code",
   "execution_count": 4,
   "id": "93c4c550",
   "metadata": {},
   "outputs": [
    {
     "data": {
      "text/plain": [
       "3"
      ]
     },
     "execution_count": 4,
     "metadata": {},
     "output_type": "execute_result"
    }
   ],
   "source": [
    "public Object processWithPython(\n",
    "        final String functionName,\n",
    "        final Object... parameters) {\n",
    "        \n",
    "    Python.put(\"args\", parameters);\n",
    "        \n",
    "    return Python.eval(functionName + \"(*args)\");\n",
    "}\n",
    "\n",
    "processWithPython(\"len\", new int[]{1, 2, 3});"
   ]
  },
  {
   "cell_type": "code",
   "execution_count": 5,
   "id": "458654dd",
   "metadata": {},
   "outputs": [
    {
     "data": {
      "text/plain": [
       "6"
      ]
     },
     "execution_count": 5,
     "metadata": {},
     "output_type": "execute_result"
    }
   ],
   "source": [
    "processWithPython(\"sum\", new int[]{1, 2, 3});"
   ]
  },
  {
   "cell_type": "code",
   "execution_count": 6,
   "id": "562493d1",
   "metadata": {},
   "outputs": [
    {
     "data": {
      "text/plain": [
       "3"
      ]
     },
     "execution_count": 6,
     "metadata": {},
     "output_type": "execute_result"
    }
   ],
   "source": [
    "import java.util.function.Function;\n",
    "\n",
    "public <I, O> Function<I, O> createPythonFunction(\n",
    "        final String functionName) {\n",
    "        \n",
    "        return (parameters) -> {\n",
    "        \n",
    "            Python.put(\"args\", parameters);\n",
    "            return Python.eval(functionName + \"(args)\");\n",
    "        };\n",
    "}\n",
    "\n",
    "var len = createPythonFunction(\"len\");\n",
    "len.apply(new int[]{1, 2, 3});"
   ]
  },
  {
   "cell_type": "code",
   "execution_count": 7,
   "id": "2fa5b716",
   "metadata": {},
   "outputs": [
    {
     "data": {
      "text/plain": [
       "6"
      ]
     },
     "execution_count": 7,
     "metadata": {},
     "output_type": "execute_result"
    }
   ],
   "source": [
    "var sum = createPythonFunction(\"sum\");\n",
    "sum.apply(new int[]{1, 2, 3});"
   ]
  },
  {
   "cell_type": "markdown",
   "id": "31c02fe1",
   "metadata": {},
   "source": [
    "To be continued..."
   ]
  }
 ],
 "metadata": {
  "kernelspec": {
   "display_name": "Java",
   "language": "java",
   "name": "java"
  },
  "language_info": {
   "codemirror_mode": "java",
   "file_extension": ".jshell",
   "mimetype": "text/x-java-source",
   "name": "Java",
   "pygments_lexer": "java",
   "version": "18-ea+36-Ubuntu-1"
  }
 },
 "nbformat": 4,
 "nbformat_minor": 5
}
